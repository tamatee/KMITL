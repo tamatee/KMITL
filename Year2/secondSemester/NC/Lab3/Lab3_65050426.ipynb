{
 "cells": [
  {
   "cell_type": "code",
   "execution_count": 1,
   "id": "d4ed8ff3-bdbd-4816-9c1c-f2101c2a950e",
   "metadata": {},
   "outputs": [
    {
     "data": {
      "text/plain": [
       "forward_diff (generic function with 1 method)"
      ]
     },
     "execution_count": 1,
     "metadata": {},
     "output_type": "execute_result"
    }
   ],
   "source": [
    "function forward_diff(f, x, dx)\n",
    "    fx = f(x)\n",
    "    fxph = f(x + dx)\n",
    "    return (fxph - fx) / dx\n",
    "end"
   ]
  },
  {
   "cell_type": "code",
   "execution_count": 2,
   "id": "b81d8602-8c8c-409a-9e43-42e28aa6287a",
   "metadata": {},
   "outputs": [
    {
     "data": {
      "text/plain": [
       "backward_diff (generic function with 1 method)"
      ]
     },
     "execution_count": 2,
     "metadata": {},
     "output_type": "execute_result"
    }
   ],
   "source": [
    "function backward_diff(f, x, dx)\n",
    "    fx = f(x)\n",
    "    fxnh = f(x - dx)\n",
    "    return (fx - fxnh) / dx\n",
    "end"
   ]
  },
  {
   "cell_type": "code",
   "execution_count": 3,
   "id": "99e395d2-1c3f-4cd6-ab43-26288a0bc97c",
   "metadata": {},
   "outputs": [
    {
     "data": {
      "text/plain": [
       "central_diff (generic function with 1 method)"
      ]
     },
     "execution_count": 3,
     "metadata": {},
     "output_type": "execute_result"
    }
   ],
   "source": [
    "function central_diff(f, x, dx)\n",
    "    fxph = f(x + dx)\n",
    "    fxnh = f(x - dx)\n",
    "    return (fxph - fxnh) / (2 * dx)\n",
    "end"
   ]
  },
  {
   "cell_type": "code",
   "execution_count": 4,
   "id": "1edb58e0-3da3-4216-90c1-b82ca2ad7431",
   "metadata": {},
   "outputs": [
    {
     "data": {
      "text/plain": [
       "solve_problem (generic function with 1 method)"
      ]
     },
     "execution_count": 4,
     "metadata": {},
     "output_type": "execute_result"
    }
   ],
   "source": [
    "function solve_problem(x)\n",
    "    return -0.1*(x^4)-0.15*(x^3)-0.5*(x^2)-0.25*(x)+1.2\n",
    "end"
   ]
  },
  {
   "cell_type": "code",
   "execution_count": 5,
   "id": "79ef618a-a01f-4e1e-a8aa-a20678664295",
   "metadata": {},
   "outputs": [
    {
     "data": {
      "text/plain": [
       "solve_problemDiff (generic function with 1 method)"
      ]
     },
     "execution_count": 5,
     "metadata": {},
     "output_type": "execute_result"
    }
   ],
   "source": [
    "function solve_problemDiff(x)\n",
    "    return -0.4*(x^3)-0.45*(x^2)-1*(x)-0.25\n",
    "end"
   ]
  },
  {
   "cell_type": "code",
   "execution_count": 6,
   "id": "e89fe62e-46d8-4731-aedc-fb36d26feefc",
   "metadata": {},
   "outputs": [
    {
     "data": {
      "text/plain": [
       "1"
      ]
     },
     "execution_count": 6,
     "metadata": {},
     "output_type": "execute_result"
    }
   ],
   "source": [
    "x = 1.25\n",
    "h = 1"
   ]
  },
  {
   "cell_type": "code",
   "execution_count": 7,
   "id": "ebeb7945-f94e-456f-bd14-ccb12f77bb63",
   "metadata": {},
   "outputs": [
    {
     "data": {
      "text/plain": [
       "-5.734375"
      ]
     },
     "execution_count": 7,
     "metadata": {},
     "output_type": "execute_result"
    }
   ],
   "source": [
    "fd=forward_diff(solve_problem, x, h)"
   ]
  },
  {
   "cell_type": "code",
   "execution_count": 8,
   "id": "146edf60-3b5e-443a-b0a6-8faafee47b87",
   "metadata": {},
   "outputs": [
    {
     "data": {
      "text/plain": [
       "-3.634375"
      ]
     },
     "execution_count": 8,
     "metadata": {},
     "output_type": "execute_result"
    }
   ],
   "source": [
    "cd=central_diff(solve_problem, x, h)"
   ]
  },
  {
   "cell_type": "code",
   "execution_count": 9,
   "id": "aa5a168d-a53a-45b7-abe1-212a1f94fe96",
   "metadata": {},
   "outputs": [
    {
     "data": {
      "text/plain": [
       "-1.534375"
      ]
     },
     "execution_count": 9,
     "metadata": {},
     "output_type": "execute_result"
    }
   ],
   "source": [
    "bd=backward_diff(solve_problem, x, h)"
   ]
  },
  {
   "cell_type": "code",
   "execution_count": 10,
   "id": "f0b0f5b3-ab31-40b5-8a13-116dddd9fc97",
   "metadata": {},
   "outputs": [
    {
     "data": {
      "text/plain": [
       "-2.984375"
      ]
     },
     "execution_count": 10,
     "metadata": {},
     "output_type": "execute_result"
    }
   ],
   "source": [
    "exact=solve_problemDiff(x)"
   ]
  },
  {
   "cell_type": "code",
   "execution_count": 11,
   "id": "08276b26-82b0-4f75-9cd2-e93ee19da8d6",
   "metadata": {},
   "outputs": [
    {
     "name": "stdout",
     "output_type": "stream",
     "text": [
      "\tForward differencing\t\t Central differencing\t\t Banckward differencing\n",
      "  -5.73438 (error=       2.8)\t  -3.63437 (error=      0.65)\t  -1.53438 (error=       1.4)"
     ]
    }
   ],
   "source": [
    "using Printf\n",
    "\n",
    "println(\"\\tForward differencing\\t\\t Central differencing\\t\\t Banckward differencing\")\n",
    "@printf(\"%10g (error=%10.2g)\\t%10g (error=%10.2g)\\t%10g (error=%10.2g)\",\n",
    "    fd, abs(fd - exact),\n",
    "    cd, abs(cd - exact),\n",
    "    bd, abs(bd - exact))"
   ]
  },
  {
   "cell_type": "code",
   "execution_count": 12,
   "id": "8839ba01-e80f-4e73-937a-f53dc1d7522f",
   "metadata": {},
   "outputs": [
    {
     "name": "stdout",
     "output_type": "stream",
     "text": [
      "\tForward differencing\t\t Central differencing\t\t Banckward differencing\n"
     ]
    },
    {
     "ename": "LoadError",
     "evalue": "syntax: incomplete: invalid string syntax",
     "output_type": "error",
     "traceback": [
      "syntax: incomplete: invalid string syntax",
      "",
      "Stacktrace:",
      " [1] top-level scope",
      "   @ In[12]:12"
     ]
    }
   ],
   "source": [
    "println(\"\\tForward differencing\\t\\t Central differencing\\t\\t Banckward differencing\")\n",
    "\n",
    "# We're going to store all the values for plotting,\n",
    "# initialise variable for these\n",
    "\n",
    "fd_errors = []\n",
    "cd_errors = []\n",
    "bd_errors = []\n",
    "dx_all = []\n",
    "dx = 1 # An initial mesh spacing\n",
    "\n",
    "for i in 1:10\n",
    "    fd = forward_diff(solve_problem, 1.25, dx)\n",
    "    cd = central_diff(solve_problem, 1.25, dx)\n",
    "    bd = backward_diff(solve_problem, 1.25, dx)\n",
    "    @printf(\"%10g (error=%10.2g)\\t%10\n",
    "end"
   ]
  },
  {
   "cell_type": "code",
   "execution_count": null,
   "id": "ddfdb6ca-a083-4e7a-a3e8-988d039ef808",
   "metadata": {},
   "outputs": [],
   "source": []
  }
 ],
 "metadata": {
  "kernelspec": {
   "display_name": "Julia 1.9.4",
   "language": "julia",
   "name": "julia-1.9"
  },
  "language_info": {
   "file_extension": ".jl",
   "mimetype": "application/julia",
   "name": "julia",
   "version": "1.9.4"
  }
 },
 "nbformat": 4,
 "nbformat_minor": 5
}
